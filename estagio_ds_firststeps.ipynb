{
  "nbformat": 4,
  "nbformat_minor": 0,
  "metadata": {
    "colab": {
      "name": "estagio_ds_firststeps.ipynb",
      "provenance": [],
      "toc_visible": true
    },
    "kernelspec": {
      "name": "python3",
      "display_name": "Python 3"
    }
  },
  "cells": [
    {
      "cell_type": "markdown",
      "metadata": {
        "id": "LrPYmiP0EuZQ"
      },
      "source": [
        "# Anomaly detection pipeline for Credit Card transactions\r\n"
      ]
    },
    {
      "cell_type": "markdown",
      "metadata": {
        "id": "0HWmy__02sO7"
      },
      "source": [
        "The provided dataset show us data from 9 companies and the goal here is to define a transformation pipeline to reveal users that shows anomalies in its behaviour.\r\n",
        "\r\n",
        "This notebook consists on data transformation after its extraction, from an API, for example. The process is basically convert several JSON files that contains credit card transaction logs of one company into a pandas dataframe, and make the procedure reproductible to other companies data.\r\n",
        "\r\n",
        "With pandas dataframe set, we going to grab informations from each user, such as credit card usage and transaction velocity, to detect anomalies."
      ]
    },
    {
      "cell_type": "code",
      "metadata": {
        "id": "QrnWJq4lgGlB"
      },
      "source": [
        "import pandas as pd\r\n",
        "import numpy as np\r\n",
        "import matplotlib.pyplot as plt\r\n",
        "import seaborn as sns\r\n",
        "\r\n",
        "\r\n",
        "import os\r\n",
        "import json"
      ],
      "execution_count": 1,
      "outputs": []
    },
    {
      "cell_type": "code",
      "metadata": {
        "id": "XKsnhkegv4Az"
      },
      "source": [
        "BASE_DIR = os.path.dirname(os.path.abspath(\"__file__\"))\r\n",
        "DATA_DIR = os.path.join(BASE_DIR, \"credit_00\")\r\n",
        "FILES = os.listdir(DATA_DIR)"
      ],
      "execution_count": 2,
      "outputs": []
    },
    {
      "cell_type": "markdown",
      "metadata": {
        "id": "DgBdkxhyhRlz"
      },
      "source": [
        "## 0. First Steps"
      ]
    },
    {
      "cell_type": "markdown",
      "metadata": {
        "id": "98BB-O_eOoKJ"
      },
      "source": [
        "### 0.1 Making a Pandas Dataframe to Analyze"
      ]
    },
    {
      "cell_type": "code",
      "metadata": {
        "colab": {
          "base_uri": "https://localhost:8080/"
        },
        "id": "rXm8I1IP0_np",
        "outputId": "a6aeafc6-7880-4486-a741-ecea3bd8c322"
      },
      "source": [
        "#DEALS WITH JSON FORMAT: TRANSFORM A DICT LINES {}{}...{} TO [{},{},...,{}]\r\n",
        "#THEN CONVERT INTO A PANDAS DATAFRAME\r\n",
        "%%time\r\n",
        "print('Converting files into a pandas dataframe...', end=\"\")\r\n",
        "json_list = []\r\n",
        "for file in FILES:\r\n",
        "\r\n",
        "  #get only json files\r\n",
        "  if file[-4:] == 'json': \r\n",
        "    \r\n",
        "    jsonify_file = []\r\n",
        "    #read each line and append to a list\r\n",
        "    for line in open(os.path.join(DATA_DIR, file), 'r'): \r\n",
        "      \r\n",
        "      jsonify_file.append(json.loads(line))\r\n",
        "\r\n",
        "    tmp = pd.DataFrame(jsonify_file)\r\n",
        "\r\n",
        "    json_list.append(tmp)\r\n",
        "\r\n",
        "df = pd.concat(json_list)\r\n",
        "print('ok')"
      ],
      "execution_count": 3,
      "outputs": [
        {
          "output_type": "stream",
          "text": [
            "Converting files into a pandas dataframe...ok\n",
            "CPU times: user 34.1 s, sys: 2.58 s, total: 36.7 s\n",
            "Wall time: 36.8 s\n"
          ],
          "name": "stdout"
        }
      ]
    },
    {
      "cell_type": "code",
      "metadata": {
        "id": "9aZZXleHArXT"
      },
      "source": [
        "#delete previous list to clean memory\r\n",
        "del json_list\r\n",
        "del jsonify_file\r\n",
        "del tmp"
      ],
      "execution_count": 4,
      "outputs": []
    },
    {
      "cell_type": "code",
      "metadata": {
        "colab": {
          "base_uri": "https://localhost:8080/"
        },
        "id": "TuiWz4wL3iJc",
        "outputId": "30c64f80-502a-4619-973d-82437926000c"
      },
      "source": [
        "df.reset_index(drop=True, inplace=True)\r\n",
        "df.info()"
      ],
      "execution_count": 5,
      "outputs": [
        {
          "output_type": "stream",
          "text": [
            "<class 'pandas.core.frame.DataFrame'>\n",
            "RangeIndex: 4100000 entries, 0 to 4099999\n",
            "Data columns (total 7 columns):\n",
            " #   Column                Dtype \n",
            "---  ------                ----- \n",
            " 0   number                object\n",
            " 1   security_code         object\n",
            " 2   dt_current_timestamp  object\n",
            " 3   user_id               int64 \n",
            " 4   provider              object\n",
            " 5   expire_data           object\n",
            " 6   uuid                  object\n",
            "dtypes: int64(1), object(6)\n",
            "memory usage: 219.0+ MB\n"
          ],
          "name": "stdout"
        }
      ]
    },
    {
      "cell_type": "markdown",
      "metadata": {
        "id": "AW9Gr9mJDUP2"
      },
      "source": [
        "Due to large dataset (7+gb), i'll try to optimize memory usage by converting variable type to a more efficient one."
      ]
    },
    {
      "cell_type": "code",
      "metadata": {
        "id": "dtEht5Tm4IiD"
      },
      "source": [
        "df['dt_current_timestamp'] = pd.to_datetime(df['dt_current_timestamp'],format=\"%Y-%m-%d %H:%M:%S.%f\")\r\n",
        "df['expire_data'] = pd.to_datetime(df['expire_data'], format=\"%m/%y\")\r\n",
        "df['security_code'] = df['security_code'].astype('uint32', copy=False)\r\n",
        "df['number'] = df['number'].astype('int64', copy=False)"
      ],
      "execution_count": 6,
      "outputs": []
    },
    {
      "cell_type": "code",
      "metadata": {
        "id": "wcsazalb76Nh"
      },
      "source": [
        "df = df.sort_values(by='dt_current_timestamp')"
      ],
      "execution_count": 7,
      "outputs": []
    },
    {
      "cell_type": "code",
      "metadata": {
        "colab": {
          "base_uri": "https://localhost:8080/"
        },
        "id": "-fZfzv3Z7871",
        "outputId": "c58420e1-bae8-4c67-f516-90d6981e55d5"
      },
      "source": [
        "df.reset_index(drop=True, inplace=True)\r\n",
        "df.info()"
      ],
      "execution_count": 8,
      "outputs": [
        {
          "output_type": "stream",
          "text": [
            "<class 'pandas.core.frame.DataFrame'>\n",
            "RangeIndex: 4100000 entries, 0 to 4099999\n",
            "Data columns (total 7 columns):\n",
            " #   Column                Dtype         \n",
            "---  ------                -----         \n",
            " 0   number                int64         \n",
            " 1   security_code         uint32        \n",
            " 2   dt_current_timestamp  datetime64[ns]\n",
            " 3   user_id               int64         \n",
            " 4   provider              object        \n",
            " 5   expire_data           datetime64[ns]\n",
            " 6   uuid                  object        \n",
            "dtypes: datetime64[ns](2), int64(2), object(2), uint32(1)\n",
            "memory usage: 203.3+ MB\n"
          ],
          "name": "stdout"
        }
      ]
    },
    {
      "cell_type": "code",
      "metadata": {
        "colab": {
          "base_uri": "https://localhost:8080/",
          "height": 204
        },
        "id": "YGqkDBUd_W3X",
        "outputId": "1406d1df-0bec-4569-c109-a34ffe00eeee"
      },
      "source": [
        "df.head()"
      ],
      "execution_count": 9,
      "outputs": [
        {
          "output_type": "execute_result",
          "data": {
            "text/html": [
              "<div>\n",
              "<style scoped>\n",
              "    .dataframe tbody tr th:only-of-type {\n",
              "        vertical-align: middle;\n",
              "    }\n",
              "\n",
              "    .dataframe tbody tr th {\n",
              "        vertical-align: top;\n",
              "    }\n",
              "\n",
              "    .dataframe thead th {\n",
              "        text-align: right;\n",
              "    }\n",
              "</style>\n",
              "<table border=\"1\" class=\"dataframe\">\n",
              "  <thead>\n",
              "    <tr style=\"text-align: right;\">\n",
              "      <th></th>\n",
              "      <th>number</th>\n",
              "      <th>security_code</th>\n",
              "      <th>dt_current_timestamp</th>\n",
              "      <th>user_id</th>\n",
              "      <th>provider</th>\n",
              "      <th>expire_data</th>\n",
              "      <th>uuid</th>\n",
              "    </tr>\n",
              "  </thead>\n",
              "  <tbody>\n",
              "    <tr>\n",
              "      <th>0</th>\n",
              "      <td>30068562987736</td>\n",
              "      <td>679</td>\n",
              "      <td>2020-12-02 16:38:56.787842</td>\n",
              "      <td>48596</td>\n",
              "      <td>American Express</td>\n",
              "      <td>2028-12-01</td>\n",
              "      <td>7c927627-c89d-4379-8bde-07289d6f33e0</td>\n",
              "    </tr>\n",
              "    <tr>\n",
              "      <th>1</th>\n",
              "      <td>676237296857</td>\n",
              "      <td>232</td>\n",
              "      <td>2020-12-02 16:38:56.788353</td>\n",
              "      <td>41626</td>\n",
              "      <td>Mastercard</td>\n",
              "      <td>2024-02-01</td>\n",
              "      <td>a5565183-f39a-44ab-8a39-b761c213ce4d</td>\n",
              "    </tr>\n",
              "    <tr>\n",
              "      <th>2</th>\n",
              "      <td>2270207598092278</td>\n",
              "      <td>570</td>\n",
              "      <td>2020-12-02 16:38:56.789360</td>\n",
              "      <td>98599</td>\n",
              "      <td>American Express</td>\n",
              "      <td>2024-06-01</td>\n",
              "      <td>a4aa6f88-b026-4ddf-b5ea-0c52c8609538</td>\n",
              "    </tr>\n",
              "    <tr>\n",
              "      <th>3</th>\n",
              "      <td>60467638148</td>\n",
              "      <td>818</td>\n",
              "      <td>2020-12-02 16:38:56.789513</td>\n",
              "      <td>83716</td>\n",
              "      <td>JCB 15 digit</td>\n",
              "      <td>2021-08-01</td>\n",
              "      <td>3774d30d-a79d-4016-b71f-1e33543d83e3</td>\n",
              "    </tr>\n",
              "    <tr>\n",
              "      <th>4</th>\n",
              "      <td>4851606755062599</td>\n",
              "      <td>224</td>\n",
              "      <td>2020-12-02 16:38:56.790990</td>\n",
              "      <td>67020</td>\n",
              "      <td>JCB 16 digit</td>\n",
              "      <td>2026-12-01</td>\n",
              "      <td>5876f871-1b35-4d6d-8218-8a55c105d605</td>\n",
              "    </tr>\n",
              "  </tbody>\n",
              "</table>\n",
              "</div>"
            ],
            "text/plain": [
              "             number  ...                                  uuid\n",
              "0    30068562987736  ...  7c927627-c89d-4379-8bde-07289d6f33e0\n",
              "1      676237296857  ...  a5565183-f39a-44ab-8a39-b761c213ce4d\n",
              "2  2270207598092278  ...  a4aa6f88-b026-4ddf-b5ea-0c52c8609538\n",
              "3       60467638148  ...  3774d30d-a79d-4016-b71f-1e33543d83e3\n",
              "4  4851606755062599  ...  5876f871-1b35-4d6d-8218-8a55c105d605\n",
              "\n",
              "[5 rows x 7 columns]"
            ]
          },
          "metadata": {
            "tags": []
          },
          "execution_count": 9
        }
      ]
    },
    {
      "cell_type": "markdown",
      "metadata": {
        "id": "QAAL3Ls9RfPY"
      },
      "source": [
        "### 0.2 - Creating basic visualizations and some basic features"
      ]
    },
    {
      "cell_type": "code",
      "metadata": {
        "id": "z3S72O9uOKSq"
      },
      "source": [
        "df['days_to_expire'] = (df['expire_data'] - df['dt_current_timestamp']).dt.days"
      ],
      "execution_count": 10,
      "outputs": []
    },
    {
      "cell_type": "code",
      "metadata": {
        "id": "U0NLtiUdP24W"
      },
      "source": [
        "df['current_day'] = df['dt_current_timestamp'].dt.day\r\n",
        "df['current_hour'] = df['dt_current_timestamp'].dt.hour\r\n",
        "df['current_minute'] = df['dt_current_timestamp'].dt.minute\r\n",
        "df['current_second'] = df['dt_current_timestamp'].dt.second\r\n",
        "df['current_microsecond'] = df['dt_current_timestamp'].dt.microsecond\r\n",
        "df['day_of_week'] = df['dt_current_timestamp'].dt.dayofweek"
      ],
      "execution_count": 11,
      "outputs": []
    },
    {
      "cell_type": "code",
      "metadata": {
        "id": "8DPBCLvmpA9R"
      },
      "source": [
        "PROVIDER_MAP = {\r\n",
        "    'VISA 16 digit':'visa_16',\r\n",
        "    'American Express':'american_express',\r\n",
        "    'JCB 15 digit':'JCB_15',\r\n",
        "    'JCB 16 digit':'JCB_16',\r\n",
        "    'Diners Club / Carte Blanche':'diners_club',\r\n",
        "    'VISA 13 digit':'visa_13',\r\n",
        "    'VISA 19 digit':'visa_19'\r\n",
        "}"
      ],
      "execution_count": 12,
      "outputs": []
    },
    {
      "cell_type": "code",
      "metadata": {
        "id": "GfpMWv9vpbgC"
      },
      "source": [
        "df['provider'] = df['provider'].replace(PROVIDER_MAP)"
      ],
      "execution_count": 13,
      "outputs": []
    },
    {
      "cell_type": "code",
      "metadata": {
        "colab": {
          "base_uri": "https://localhost:8080/",
          "height": 479
        },
        "id": "5LA4ihX5Oc-a",
        "outputId": "b6b80e4e-ecf2-4cce-a180-4132969aacf2"
      },
      "source": [
        "df.tail()"
      ],
      "execution_count": 14,
      "outputs": [
        {
          "output_type": "execute_result",
          "data": {
            "text/html": [
              "<div>\n",
              "<style scoped>\n",
              "    .dataframe tbody tr th:only-of-type {\n",
              "        vertical-align: middle;\n",
              "    }\n",
              "\n",
              "    .dataframe tbody tr th {\n",
              "        vertical-align: top;\n",
              "    }\n",
              "\n",
              "    .dataframe thead th {\n",
              "        text-align: right;\n",
              "    }\n",
              "</style>\n",
              "<table border=\"1\" class=\"dataframe\">\n",
              "  <thead>\n",
              "    <tr style=\"text-align: right;\">\n",
              "      <th></th>\n",
              "      <th>number</th>\n",
              "      <th>security_code</th>\n",
              "      <th>dt_current_timestamp</th>\n",
              "      <th>user_id</th>\n",
              "      <th>provider</th>\n",
              "      <th>expire_data</th>\n",
              "      <th>uuid</th>\n",
              "      <th>days_to_expire</th>\n",
              "      <th>current_day</th>\n",
              "      <th>current_hour</th>\n",
              "      <th>current_minute</th>\n",
              "      <th>current_second</th>\n",
              "      <th>current_microsecond</th>\n",
              "      <th>day_of_week</th>\n",
              "    </tr>\n",
              "  </thead>\n",
              "  <tbody>\n",
              "    <tr>\n",
              "      <th>4099995</th>\n",
              "      <td>568039623828</td>\n",
              "      <td>292</td>\n",
              "      <td>2020-12-11 18:50:31.949111</td>\n",
              "      <td>56538</td>\n",
              "      <td>visa_19</td>\n",
              "      <td>2025-02-01</td>\n",
              "      <td>f2415b9b-977b-4df2-b8e6-761d323f97ad</td>\n",
              "      <td>1512</td>\n",
              "      <td>11</td>\n",
              "      <td>18</td>\n",
              "      <td>50</td>\n",
              "      <td>31</td>\n",
              "      <td>949111</td>\n",
              "      <td>4</td>\n",
              "    </tr>\n",
              "    <tr>\n",
              "      <th>4099996</th>\n",
              "      <td>4339704135191</td>\n",
              "      <td>80</td>\n",
              "      <td>2020-12-11 18:50:31.949268</td>\n",
              "      <td>56889</td>\n",
              "      <td>JCB_15</td>\n",
              "      <td>2021-07-01</td>\n",
              "      <td>3f8b3b35-6cf3-4400-bc2e-722c38d679de</td>\n",
              "      <td>201</td>\n",
              "      <td>11</td>\n",
              "      <td>18</td>\n",
              "      <td>50</td>\n",
              "      <td>31</td>\n",
              "      <td>949268</td>\n",
              "      <td>4</td>\n",
              "    </tr>\n",
              "    <tr>\n",
              "      <th>4099997</th>\n",
              "      <td>3553664337475204</td>\n",
              "      <td>364</td>\n",
              "      <td>2020-12-11 18:50:31.949937</td>\n",
              "      <td>27487</td>\n",
              "      <td>JCB_16</td>\n",
              "      <td>2029-08-01</td>\n",
              "      <td>d69377ab-ca81-46c2-bb65-ebbc57d36d01</td>\n",
              "      <td>3154</td>\n",
              "      <td>11</td>\n",
              "      <td>18</td>\n",
              "      <td>50</td>\n",
              "      <td>31</td>\n",
              "      <td>949937</td>\n",
              "      <td>4</td>\n",
              "    </tr>\n",
              "    <tr>\n",
              "      <th>4099998</th>\n",
              "      <td>4354526339063438</td>\n",
              "      <td>500</td>\n",
              "      <td>2020-12-11 18:50:31.952025</td>\n",
              "      <td>95644</td>\n",
              "      <td>visa_19</td>\n",
              "      <td>2022-01-01</td>\n",
              "      <td>3584de0b-6d2c-4f74-94c8-346a0d1449e8</td>\n",
              "      <td>385</td>\n",
              "      <td>11</td>\n",
              "      <td>18</td>\n",
              "      <td>50</td>\n",
              "      <td>31</td>\n",
              "      <td>952025</td>\n",
              "      <td>4</td>\n",
              "    </tr>\n",
              "    <tr>\n",
              "      <th>4099999</th>\n",
              "      <td>38355987175290</td>\n",
              "      <td>340</td>\n",
              "      <td>2020-12-11 18:50:31.952192</td>\n",
              "      <td>13843</td>\n",
              "      <td>JCB_16</td>\n",
              "      <td>2027-05-01</td>\n",
              "      <td>38795793-3adc-429b-92fb-3493ac7f6f76</td>\n",
              "      <td>2331</td>\n",
              "      <td>11</td>\n",
              "      <td>18</td>\n",
              "      <td>50</td>\n",
              "      <td>31</td>\n",
              "      <td>952192</td>\n",
              "      <td>4</td>\n",
              "    </tr>\n",
              "  </tbody>\n",
              "</table>\n",
              "</div>"
            ],
            "text/plain": [
              "                   number  security_code  ... current_microsecond  day_of_week\n",
              "4099995      568039623828            292  ...              949111            4\n",
              "4099996     4339704135191             80  ...              949268            4\n",
              "4099997  3553664337475204            364  ...              949937            4\n",
              "4099998  4354526339063438            500  ...              952025            4\n",
              "4099999    38355987175290            340  ...              952192            4\n",
              "\n",
              "[5 rows x 14 columns]"
            ]
          },
          "metadata": {
            "tags": []
          },
          "execution_count": 14
        }
      ]
    },
    {
      "cell_type": "code",
      "metadata": {
        "id": "LKwd68PE_IAV"
      },
      "source": [
        "df.to_csv(os.path.join(BASE_DIR, \"dataframe.csv\"), index=False)"
      ],
      "execution_count": 15,
      "outputs": []
    },
    {
      "cell_type": "code",
      "metadata": {
        "colab": {
          "base_uri": "https://localhost:8080/"
        },
        "id": "l1FxakXuSafN",
        "outputId": "73f5272b-0017-4219-b1b1-a078f0be7800"
      },
      "source": [
        "df.info()"
      ],
      "execution_count": 16,
      "outputs": [
        {
          "output_type": "stream",
          "text": [
            "<class 'pandas.core.frame.DataFrame'>\n",
            "RangeIndex: 4100000 entries, 0 to 4099999\n",
            "Data columns (total 14 columns):\n",
            " #   Column                Dtype         \n",
            "---  ------                -----         \n",
            " 0   number                int64         \n",
            " 1   security_code         uint32        \n",
            " 2   dt_current_timestamp  datetime64[ns]\n",
            " 3   user_id               int64         \n",
            " 4   provider              object        \n",
            " 5   expire_data           datetime64[ns]\n",
            " 6   uuid                  object        \n",
            " 7   days_to_expire        int64         \n",
            " 8   current_day           int64         \n",
            " 9   current_hour          int64         \n",
            " 10  current_minute        int64         \n",
            " 11  current_second        int64         \n",
            " 12  current_microsecond   int64         \n",
            " 13  day_of_week           int64         \n",
            "dtypes: datetime64[ns](2), int64(9), object(2), uint32(1)\n",
            "memory usage: 422.3+ MB\n"
          ],
          "name": "stdout"
        }
      ]
    },
    {
      "cell_type": "code",
      "metadata": {
        "colab": {
          "base_uri": "https://localhost:8080/",
          "height": 346
        },
        "id": "83U_WUe0HMos",
        "outputId": "dc0030a2-30e1-4a66-a5ff-c975990fd97d"
      },
      "source": [
        "df['provider'].value_counts().plot(kind='bar');"
      ],
      "execution_count": 17,
      "outputs": [
        {
          "output_type": "display_data",
          "data": {
            "image/png": "[encoded data removed]",
            "text/plain": [
              "<Figure size 432x288 with 1 Axes>"
            ]
          },
          "metadata": {
            "tags": [],
            "needs_background": "light"
          }
        }
      ]
    },
    {
      "cell_type": "code",
      "metadata": {
        "colab": {
          "base_uri": "https://localhost:8080/",
          "height": 288
        },
        "id": "oRKxoEJtNK3S",
        "outputId": "33865827-5d3c-4cc4-ef02-de1eac431ad2"
      },
      "source": [
        "df[['dt_current_timestamp', 'day_of_week']].groupby('day_of_week').count().plot(kind='bar');"
      ],
      "execution_count": 18,
      "outputs": [
        {
          "output_type": "display_data",
          "data": {
            "image/png": "[encoded data removed]",
            "text/plain": [
              "<Figure size 432x288 with 1 Axes>"
            ]
          },
          "metadata": {
            "tags": [],
            "needs_background": "light"
          }
        }
      ]
    },
    {
      "cell_type": "code",
      "metadata": {
        "colab": {
          "base_uri": "https://localhost:8080/",
          "height": 394
        },
        "id": "bEsAXnyzU5Gd",
        "outputId": "b331f4f9-8b08-4153-9604-7d9af3cc28d8"
      },
      "source": [
        "df[['dt_current_timestamp','current_minute']].groupby('current_minute').count().plot(kind='bar', figsize=(12,6));"
      ],
      "execution_count": 19,
      "outputs": [
        {
          "output_type": "display_data",
          "data": {
            "image/png": "[encoded data removed]",
            "text/plain": [
              "<Figure size 864x432 with 1 Axes>"
            ]
          },
          "metadata": {
            "tags": [],
            "needs_background": "light"
          }
        }
      ]
    },
    {
      "cell_type": "code",
      "metadata": {
        "colab": {
          "base_uri": "https://localhost:8080/",
          "height": 294
        },
        "id": "sW0DooG5WAnc",
        "outputId": "25a85e9a-13d9-4444-efc6-0d4ef3bd6500"
      },
      "source": [
        "df[['dt_current_timestamp','current_day']].groupby('current_day').count().plot(kind='bar');"
      ],
      "execution_count": 20,
      "outputs": [
        {
          "output_type": "display_data",
          "data": {
            "image/png": "[encoded data removed]",
            "text/plain": [
              "<Figure size 432x288 with 1 Axes>"
            ]
          },
          "metadata": {
            "tags": [],
            "needs_background": "light"
          }
        }
      ]
    },
    {
      "cell_type": "code",
      "metadata": {
        "colab": {
          "base_uri": "https://localhost:8080/",
          "height": 389
        },
        "id": "IzxTMI5TWidb",
        "outputId": "c4953596-cb5a-4090-988b-662a57aaf6fd"
      },
      "source": [
        "df[['dt_current_timestamp','user_id']].groupby('user_id').count().plot(figsize=(18,6));"
      ],
      "execution_count": 21,
      "outputs": [
        {
          "output_type": "display_data",
          "data": {
            "image/png": "[encoded data removed]",
            "text/plain": [
              "<Figure size 1296x432 with 1 Axes>"
            ]
          },
          "metadata": {
            "tags": [],
            "needs_background": "light"
          }
        }
      ]
    },
    {
      "cell_type": "markdown",
      "metadata": {
        "id": "wPxhdDzJd6nF"
      },
      "source": [
        "### 0.3 Feature Engineering"
      ]
    },
    {
      "cell_type": "code",
      "metadata": {
        "id": "_gMRB3H8W786"
      },
      "source": [
        "#CREATE A USER DATAFRAME TO POSTERIOR CLUSTERIZATION\r\n",
        "users_count = df[['dt_current_timestamp','user_id']].groupby('user_id').count()\r\n",
        "users_count = users_count.reset_index()\r\n",
        "users_count.columns = ['user_id', 'total_transactions']"
      ],
      "execution_count": 22,
      "outputs": []
    },
    {
      "cell_type": "code",
      "metadata": {
        "colab": {
          "base_uri": "https://localhost:8080/",
          "height": 419
        },
        "id": "XAWoEdXHbJEy",
        "outputId": "489ae49e-9b48-4e97-d88b-156b9a42fcdb"
      },
      "source": [
        "users_count"
      ],
      "execution_count": 23,
      "outputs": [
        {
          "output_type": "execute_result",
          "data": {
            "text/html": [
              "<div>\n",
              "<style scoped>\n",
              "    .dataframe tbody tr th:only-of-type {\n",
              "        vertical-align: middle;\n",
              "    }\n",
              "\n",
              "    .dataframe tbody tr th {\n",
              "        vertical-align: top;\n",
              "    }\n",
              "\n",
              "    .dataframe thead th {\n",
              "        text-align: right;\n",
              "    }\n",
              "</style>\n",
              "<table border=\"1\" class=\"dataframe\">\n",
              "  <thead>\n",
              "    <tr style=\"text-align: right;\">\n",
              "      <th></th>\n",
              "      <th>user_id</th>\n",
              "      <th>total_transactions</th>\n",
              "    </tr>\n",
              "  </thead>\n",
              "  <tbody>\n",
              "    <tr>\n",
              "      <th>0</th>\n",
              "      <td>0</td>\n",
              "      <td>21</td>\n",
              "    </tr>\n",
              "    <tr>\n",
              "      <th>1</th>\n",
              "      <td>1</td>\n",
              "      <td>51</td>\n",
              "    </tr>\n",
              "    <tr>\n",
              "      <th>2</th>\n",
              "      <td>2</td>\n",
              "      <td>63</td>\n",
              "    </tr>\n",
              "    <tr>\n",
              "      <th>3</th>\n",
              "      <td>3</td>\n",
              "      <td>17</td>\n",
              "    </tr>\n",
              "    <tr>\n",
              "      <th>4</th>\n",
              "      <td>4</td>\n",
              "      <td>65</td>\n",
              "    </tr>\n",
              "    <tr>\n",
              "      <th>...</th>\n",
              "      <td>...</td>\n",
              "      <td>...</td>\n",
              "    </tr>\n",
              "    <tr>\n",
              "      <th>99995</th>\n",
              "      <td>99996</td>\n",
              "      <td>63</td>\n",
              "    </tr>\n",
              "    <tr>\n",
              "      <th>99996</th>\n",
              "      <td>99997</td>\n",
              "      <td>64</td>\n",
              "    </tr>\n",
              "    <tr>\n",
              "      <th>99997</th>\n",
              "      <td>99998</td>\n",
              "      <td>40</td>\n",
              "    </tr>\n",
              "    <tr>\n",
              "      <th>99998</th>\n",
              "      <td>99999</td>\n",
              "      <td>30</td>\n",
              "    </tr>\n",
              "    <tr>\n",
              "      <th>99999</th>\n",
              "      <td>100000</td>\n",
              "      <td>75</td>\n",
              "    </tr>\n",
              "  </tbody>\n",
              "</table>\n",
              "<p>100000 rows × 2 columns</p>\n",
              "</div>"
            ],
            "text/plain": [
              "       user_id  total_transactions\n",
              "0            0                  21\n",
              "1            1                  51\n",
              "2            2                  63\n",
              "3            3                  17\n",
              "4            4                  65\n",
              "...        ...                 ...\n",
              "99995    99996                  63\n",
              "99996    99997                  64\n",
              "99997    99998                  40\n",
              "99998    99999                  30\n",
              "99999   100000                  75\n",
              "\n",
              "[100000 rows x 2 columns]"
            ]
          },
          "metadata": {
            "tags": []
          },
          "execution_count": 23
        }
      ]
    },
    {
      "cell_type": "code",
      "metadata": {
        "id": "IHGZzrEeartc",
        "colab": {
          "base_uri": "https://localhost:8080/",
          "height": 280
        },
        "outputId": "b8b482f8-109b-48fa-876c-b0ea97f7f0f2"
      },
      "source": [
        "sns.histplot(users_count['total_transactions']);"
      ],
      "execution_count": 24,
      "outputs": [
        {
          "output_type": "display_data",
          "data": {
            "image/png": "[encoded data removed]",
            "text/plain": [
              "<Figure size 432x288 with 1 Axes>"
            ]
          },
          "metadata": {
            "tags": [],
            "needs_background": "light"
          }
        }
      ]
    },
    {
      "cell_type": "code",
      "metadata": {
        "id": "Nw0dJAxHcuOn",
        "colab": {
          "base_uri": "https://localhost:8080/",
          "height": 280
        },
        "outputId": "4db13ab1-22e9-4819-84db-c7c55db2e95b"
      },
      "source": [
        "sns.boxplot(x=users_count['total_transactions']);"
      ],
      "execution_count": 25,
      "outputs": [
        {
          "output_type": "display_data",
          "data": {
            "image/png": "[encoded data removed]",
            "text/plain": [
              "<Figure size 432x288 with 1 Axes>"
            ]
          },
          "metadata": {
            "tags": [],
            "needs_background": "light"
          }
        }
      ]
    },
    {
      "cell_type": "code",
      "metadata": {
        "id": "DKhMv52ddtC1",
        "colab": {
          "base_uri": "https://localhost:8080/"
        },
        "outputId": "5fbf8b8c-f69d-4bb2-97cc-a83ad010434b"
      },
      "source": [
        "#Calculate interquartilic range for outlier detection\r\n",
        "IQR = users_count['total_transactions'].quantile(0.75) - users_count['total_transactions'].quantile(0.25)\r\n",
        "\r\n",
        "cs_iqr_inf_limit = users_count['total_transactions'].quantile(0.25) - (IQR * 1.5)\r\n",
        "cs_iqr_sup_limit = users_count['total_transactions'].quantile(0.75) + (IQR * 1.5)\r\n",
        "\r\n",
        "print('1st Quartile - 1.5 * DIR = {}'.format(cs_iqr_inf_limit))\r\n",
        "print('3rd Quartile + 1.5 * DIR = {}\\n'.format(cs_iqr_sup_limit))"
      ],
      "execution_count": 26,
      "outputs": [
        {
          "output_type": "stream",
          "text": [
            "1st Quartile - 1.5 * DIR = -8.0\n",
            "3rd Quartile + 1.5 * DIR = 88.0\n",
            "\n"
          ],
          "name": "stdout"
        }
      ]
    },
    {
      "cell_type": "code",
      "metadata": {
        "id": "XajBOza1e0eI",
        "colab": {
          "base_uri": "https://localhost:8080/"
        },
        "outputId": "a82b250a-e47c-4d6a-93ef-e099b1af0f76"
      },
      "source": [
        "print('There are {} users with more than 88 transactions'.format(\r\n",
        "    len([x for x in users_count['total_transactions'].tolist() if x > cs_iqr_sup_limit])))\r\n",
        "\r\n",
        "print('There are {} users with less than -8 transactions'.format(\r\n",
        "    len([x for x in users_count['total_transactions'].tolist() if x < cs_iqr_inf_limit])))"
      ],
      "execution_count": 27,
      "outputs": [
        {
          "output_type": "stream",
          "text": [
            "There are 1147 users with more than 88 transactions\n",
            "There are 0 users with less than -8 transactions\n"
          ],
          "name": "stdout"
        }
      ]
    },
    {
      "cell_type": "code",
      "metadata": {
        "id": "TruHbxDxe589"
      },
      "source": [
        "##CREATE A FLAG TO INDICATE SUSPICIOUS ACTIVITY\r\n",
        "users_count['quartilebased_suspicious_flag'] = np.where(users_count['total_transactions'] > cs_iqr_sup_limit, 1, 0)"
      ],
      "execution_count": 29,
      "outputs": []
    },
    {
      "cell_type": "code",
      "metadata": {
        "id": "dJ60Bwc4gFpa",
        "colab": {
          "base_uri": "https://localhost:8080/",
          "height": 419
        },
        "outputId": "1fb985f0-34f6-4fe7-fd43-83271ea2a143"
      },
      "source": [
        "users_count"
      ],
      "execution_count": 30,
      "outputs": [
        {
          "output_type": "execute_result",
          "data": {
            "text/html": [
              "<div>\n",
              "<style scoped>\n",
              "    .dataframe tbody tr th:only-of-type {\n",
              "        vertical-align: middle;\n",
              "    }\n",
              "\n",
              "    .dataframe tbody tr th {\n",
              "        vertical-align: top;\n",
              "    }\n",
              "\n",
              "    .dataframe thead th {\n",
              "        text-align: right;\n",
              "    }\n",
              "</style>\n",
              "<table border=\"1\" class=\"dataframe\">\n",
              "  <thead>\n",
              "    <tr style=\"text-align: right;\">\n",
              "      <th></th>\n",
              "      <th>user_id</th>\n",
              "      <th>total_transactions</th>\n",
              "      <th>quartilebased_suspicious_flag</th>\n",
              "    </tr>\n",
              "  </thead>\n",
              "  <tbody>\n",
              "    <tr>\n",
              "      <th>0</th>\n",
              "      <td>0</td>\n",
              "      <td>21</td>\n",
              "      <td>0</td>\n",
              "    </tr>\n",
              "    <tr>\n",
              "      <th>1</th>\n",
              "      <td>1</td>\n",
              "      <td>51</td>\n",
              "      <td>0</td>\n",
              "    </tr>\n",
              "    <tr>\n",
              "      <th>2</th>\n",
              "      <td>2</td>\n",
              "      <td>63</td>\n",
              "      <td>0</td>\n",
              "    </tr>\n",
              "    <tr>\n",
              "      <th>3</th>\n",
              "      <td>3</td>\n",
              "      <td>17</td>\n",
              "      <td>0</td>\n",
              "    </tr>\n",
              "    <tr>\n",
              "      <th>4</th>\n",
              "      <td>4</td>\n",
              "      <td>65</td>\n",
              "      <td>0</td>\n",
              "    </tr>\n",
              "    <tr>\n",
              "      <th>...</th>\n",
              "      <td>...</td>\n",
              "      <td>...</td>\n",
              "      <td>...</td>\n",
              "    </tr>\n",
              "    <tr>\n",
              "      <th>99995</th>\n",
              "      <td>99996</td>\n",
              "      <td>63</td>\n",
              "      <td>0</td>\n",
              "    </tr>\n",
              "    <tr>\n",
              "      <th>99996</th>\n",
              "      <td>99997</td>\n",
              "      <td>64</td>\n",
              "      <td>0</td>\n",
              "    </tr>\n",
              "    <tr>\n",
              "      <th>99997</th>\n",
              "      <td>99998</td>\n",
              "      <td>40</td>\n",
              "      <td>0</td>\n",
              "    </tr>\n",
              "    <tr>\n",
              "      <th>99998</th>\n",
              "      <td>99999</td>\n",
              "      <td>30</td>\n",
              "      <td>0</td>\n",
              "    </tr>\n",
              "    <tr>\n",
              "      <th>99999</th>\n",
              "      <td>100000</td>\n",
              "      <td>75</td>\n",
              "      <td>0</td>\n",
              "    </tr>\n",
              "  </tbody>\n",
              "</table>\n",
              "<p>100000 rows × 3 columns</p>\n",
              "</div>"
            ],
            "text/plain": [
              "       user_id  total_transactions  quartilebased_suspicious_flag\n",
              "0            0                  21                              0\n",
              "1            1                  51                              0\n",
              "2            2                  63                              0\n",
              "3            3                  17                              0\n",
              "4            4                  65                              0\n",
              "...        ...                 ...                            ...\n",
              "99995    99996                  63                              0\n",
              "99996    99997                  64                              0\n",
              "99997    99998                  40                              0\n",
              "99998    99999                  30                              0\n",
              "99999   100000                  75                              0\n",
              "\n",
              "[100000 rows x 3 columns]"
            ]
          },
          "metadata": {
            "tags": []
          },
          "execution_count": 30
        }
      ]
    },
    {
      "cell_type": "code",
      "metadata": {
        "id": "1mJfDoVEgGm4",
        "colab": {
          "base_uri": "https://localhost:8080/"
        },
        "outputId": "01ba597d-5b48-495f-dd43-0766995e73ae"
      },
      "source": [
        "users_count['quartilebased_suspicious_flag'].value_counts()"
      ],
      "execution_count": 31,
      "outputs": [
        {
          "output_type": "execute_result",
          "data": {
            "text/plain": [
              "0    98853\n",
              "1     1147\n",
              "Name: quartilebased_suspicious_flag, dtype: int64"
            ]
          },
          "metadata": {
            "tags": []
          },
          "execution_count": 31
        }
      ]
    },
    {
      "cell_type": "markdown",
      "metadata": {
        "id": "9_ZuVk8deQ8u"
      },
      "source": [
        "TODO1: FOR EACH USER, CALCULATE OVERALL TRANSACTIONS VELOCITY, DAILY, HOURLY TRANSACTION VELOCITY, MINUTE, SECOND... AND TAKE AVERAGE SINCE ITS HAVE HIGH OUTLIER SENSITIVITY:::::: DONE\r\n",
        "\r\n",
        "TODO2: CREATE COLUMNS FOR EACH PROVIDER AND TAKE THE NUMBER OF TIMES USED PER USER ID::::::: DONE"
      ]
    },
    {
      "cell_type": "code",
      "metadata": {
        "id": "1gPZFg8str7Z"
      },
      "source": [
        "provider_count_df = df.pivot_table(index='user_id', columns='provider', aggfunc='count').fillna(0).reset_index()['uuid']"
      ],
      "execution_count": 32,
      "outputs": []
    },
    {
      "cell_type": "code",
      "metadata": {
        "id": "anhhHO9bvY_l"
      },
      "source": [
        "users_count = users_count.merge(provider_count_df, left_index=True, right_index=True)"
      ],
      "execution_count": 33,
      "outputs": []
    },
    {
      "cell_type": "code",
      "metadata": {
        "id": "6As2Zi4h19pS",
        "colab": {
          "base_uri": "https://localhost:8080/",
          "height": 419
        },
        "outputId": "c4e7ed5f-c337-4897-d9fd-aa2c75dbcfc8"
      },
      "source": [
        "users_count"
      ],
      "execution_count": 34,
      "outputs": [
        {
          "output_type": "execute_result",
          "data": {
            "text/html": [
              "<div>\n",
              "<style scoped>\n",
              "    .dataframe tbody tr th:only-of-type {\n",
              "        vertical-align: middle;\n",
              "    }\n",
              "\n",
              "    .dataframe tbody tr th {\n",
              "        vertical-align: top;\n",
              "    }\n",
              "\n",
              "    .dataframe thead th {\n",
              "        text-align: right;\n",
              "    }\n",
              "</style>\n",
              "<table border=\"1\" class=\"dataframe\">\n",
              "  <thead>\n",
              "    <tr style=\"text-align: right;\">\n",
              "      <th></th>\n",
              "      <th>user_id</th>\n",
              "      <th>total_transactions</th>\n",
              "      <th>quartilebased_suspicious_flag</th>\n",
              "      <th>Discover</th>\n",
              "      <th>JCB_15</th>\n",
              "      <th>JCB_16</th>\n",
              "      <th>Maestro</th>\n",
              "      <th>Mastercard</th>\n",
              "      <th>american_express</th>\n",
              "      <th>diners_club</th>\n",
              "      <th>visa_13</th>\n",
              "      <th>visa_16</th>\n",
              "      <th>visa_19</th>\n",
              "    </tr>\n",
              "  </thead>\n",
              "  <tbody>\n",
              "    <tr>\n",
              "      <th>0</th>\n",
              "      <td>0</td>\n",
              "      <td>21</td>\n",
              "      <td>0</td>\n",
              "      <td>0.0</td>\n",
              "      <td>1.0</td>\n",
              "      <td>5.0</td>\n",
              "      <td>0.0</td>\n",
              "      <td>0.0</td>\n",
              "      <td>5.0</td>\n",
              "      <td>1.0</td>\n",
              "      <td>2.0</td>\n",
              "      <td>5.0</td>\n",
              "      <td>2.0</td>\n",
              "    </tr>\n",
              "    <tr>\n",
              "      <th>1</th>\n",
              "      <td>1</td>\n",
              "      <td>51</td>\n",
              "      <td>0</td>\n",
              "      <td>4.0</td>\n",
              "      <td>2.0</td>\n",
              "      <td>12.0</td>\n",
              "      <td>4.0</td>\n",
              "      <td>5.0</td>\n",
              "      <td>3.0</td>\n",
              "      <td>4.0</td>\n",
              "      <td>4.0</td>\n",
              "      <td>9.0</td>\n",
              "      <td>4.0</td>\n",
              "    </tr>\n",
              "    <tr>\n",
              "      <th>2</th>\n",
              "      <td>2</td>\n",
              "      <td>63</td>\n",
              "      <td>0</td>\n",
              "      <td>4.0</td>\n",
              "      <td>7.0</td>\n",
              "      <td>11.0</td>\n",
              "      <td>4.0</td>\n",
              "      <td>7.0</td>\n",
              "      <td>6.0</td>\n",
              "      <td>3.0</td>\n",
              "      <td>5.0</td>\n",
              "      <td>13.0</td>\n",
              "      <td>3.0</td>\n",
              "    </tr>\n",
              "    <tr>\n",
              "      <th>3</th>\n",
              "      <td>3</td>\n",
              "      <td>17</td>\n",
              "      <td>0</td>\n",
              "      <td>1.0</td>\n",
              "      <td>1.0</td>\n",
              "      <td>7.0</td>\n",
              "      <td>1.0</td>\n",
              "      <td>1.0</td>\n",
              "      <td>1.0</td>\n",
              "      <td>1.0</td>\n",
              "      <td>2.0</td>\n",
              "      <td>1.0</td>\n",
              "      <td>1.0</td>\n",
              "    </tr>\n",
              "    <tr>\n",
              "      <th>4</th>\n",
              "      <td>4</td>\n",
              "      <td>65</td>\n",
              "      <td>0</td>\n",
              "      <td>4.0</td>\n",
              "      <td>4.0</td>\n",
              "      <td>13.0</td>\n",
              "      <td>8.0</td>\n",
              "      <td>3.0</td>\n",
              "      <td>8.0</td>\n",
              "      <td>7.0</td>\n",
              "      <td>4.0</td>\n",
              "      <td>9.0</td>\n",
              "      <td>5.0</td>\n",
              "    </tr>\n",
              "    <tr>\n",
              "      <th>...</th>\n",
              "      <td>...</td>\n",
              "      <td>...</td>\n",
              "      <td>...</td>\n",
              "      <td>...</td>\n",
              "      <td>...</td>\n",
              "      <td>...</td>\n",
              "      <td>...</td>\n",
              "      <td>...</td>\n",
              "      <td>...</td>\n",
              "      <td>...</td>\n",
              "      <td>...</td>\n",
              "      <td>...</td>\n",
              "      <td>...</td>\n",
              "    </tr>\n",
              "    <tr>\n",
              "      <th>99995</th>\n",
              "      <td>99996</td>\n",
              "      <td>63</td>\n",
              "      <td>0</td>\n",
              "      <td>7.0</td>\n",
              "      <td>7.0</td>\n",
              "      <td>8.0</td>\n",
              "      <td>5.0</td>\n",
              "      <td>3.0</td>\n",
              "      <td>4.0</td>\n",
              "      <td>7.0</td>\n",
              "      <td>5.0</td>\n",
              "      <td>11.0</td>\n",
              "      <td>6.0</td>\n",
              "    </tr>\n",
              "    <tr>\n",
              "      <th>99996</th>\n",
              "      <td>99997</td>\n",
              "      <td>64</td>\n",
              "      <td>0</td>\n",
              "      <td>6.0</td>\n",
              "      <td>8.0</td>\n",
              "      <td>11.0</td>\n",
              "      <td>6.0</td>\n",
              "      <td>3.0</td>\n",
              "      <td>8.0</td>\n",
              "      <td>2.0</td>\n",
              "      <td>7.0</td>\n",
              "      <td>6.0</td>\n",
              "      <td>7.0</td>\n",
              "    </tr>\n",
              "    <tr>\n",
              "      <th>99997</th>\n",
              "      <td>99998</td>\n",
              "      <td>40</td>\n",
              "      <td>0</td>\n",
              "      <td>0.0</td>\n",
              "      <td>3.0</td>\n",
              "      <td>6.0</td>\n",
              "      <td>4.0</td>\n",
              "      <td>2.0</td>\n",
              "      <td>5.0</td>\n",
              "      <td>0.0</td>\n",
              "      <td>6.0</td>\n",
              "      <td>8.0</td>\n",
              "      <td>6.0</td>\n",
              "    </tr>\n",
              "    <tr>\n",
              "      <th>99998</th>\n",
              "      <td>99999</td>\n",
              "      <td>30</td>\n",
              "      <td>0</td>\n",
              "      <td>3.0</td>\n",
              "      <td>3.0</td>\n",
              "      <td>5.0</td>\n",
              "      <td>2.0</td>\n",
              "      <td>0.0</td>\n",
              "      <td>8.0</td>\n",
              "      <td>1.0</td>\n",
              "      <td>1.0</td>\n",
              "      <td>3.0</td>\n",
              "      <td>4.0</td>\n",
              "    </tr>\n",
              "    <tr>\n",
              "      <th>99999</th>\n",
              "      <td>100000</td>\n",
              "      <td>75</td>\n",
              "      <td>0</td>\n",
              "      <td>9.0</td>\n",
              "      <td>7.0</td>\n",
              "      <td>9.0</td>\n",
              "      <td>8.0</td>\n",
              "      <td>4.0</td>\n",
              "      <td>7.0</td>\n",
              "      <td>8.0</td>\n",
              "      <td>5.0</td>\n",
              "      <td>12.0</td>\n",
              "      <td>6.0</td>\n",
              "    </tr>\n",
              "  </tbody>\n",
              "</table>\n",
              "<p>100000 rows × 13 columns</p>\n",
              "</div>"
            ],
            "text/plain": [
              "       user_id  total_transactions  ...  visa_16  visa_19\n",
              "0            0                  21  ...      5.0      2.0\n",
              "1            1                  51  ...      9.0      4.0\n",
              "2            2                  63  ...     13.0      3.0\n",
              "3            3                  17  ...      1.0      1.0\n",
              "4            4                  65  ...      9.0      5.0\n",
              "...        ...                 ...  ...      ...      ...\n",
              "99995    99996                  63  ...     11.0      6.0\n",
              "99996    99997                  64  ...      6.0      7.0\n",
              "99997    99998                  40  ...      8.0      6.0\n",
              "99998    99999                  30  ...      3.0      4.0\n",
              "99999   100000                  75  ...     12.0      6.0\n",
              "\n",
              "[100000 rows x 13 columns]"
            ]
          },
          "metadata": {
            "tags": []
          },
          "execution_count": 34
        }
      ]
    },
    {
      "cell_type": "code",
      "metadata": {
        "id": "QyGFFnR82utH",
        "colab": {
          "base_uri": "https://localhost:8080/",
          "height": 384
        },
        "outputId": "c1e09dcd-869e-4de1-9131-08a8cf500885"
      },
      "source": [
        "sns.distplot(users_count[users_count['quartilebased_suspicious_flag'] == 1]['Mastercard'])\r\n",
        "sns.distplot(users_count[users_count['quartilebased_suspicious_flag'] == 0]['Mastercard'])"
      ],
      "execution_count": 35,
      "outputs": [
        {
          "output_type": "stream",
          "text": [
            "/usr/local/lib/python3.6/dist-packages/seaborn/distributions.py:2551: FutureWarning: `distplot` is a deprecated function and will be removed in a future version. Please adapt your code to use either `displot` (a figure-level function with similar flexibility) or `histplot` (an axes-level function for histograms).\n",
            "  warnings.warn(msg, FutureWarning)\n",
            "/usr/local/lib/python3.6/dist-packages/seaborn/distributions.py:2551: FutureWarning: `distplot` is a deprecated function and will be removed in a future version. Please adapt your code to use either `displot` (a figure-level function with similar flexibility) or `histplot` (an axes-level function for histograms).\n",
            "  warnings.warn(msg, FutureWarning)\n"
          ],
          "name": "stderr"
        },
        {
          "output_type": "execute_result",
          "data": {
            "text/plain": [
              "<matplotlib.axes._subplots.AxesSubplot at 0x7f99a0c1deb8>"
            ]
          },
          "metadata": {
            "tags": []
          },
          "execution_count": 35
        },
        {
          "output_type": "display_data",
          "data": {
            "image/png": "[encoded data removed]",
            "text/plain": [
              "<Figure size 432x288 with 1 Axes>"
            ]
          },
          "metadata": {
            "tags": [],
            "needs_background": "light"
          }
        }
      ]
    },
    {
      "cell_type": "code",
      "metadata": {
        "id": "HyCDMoXA-3_c",
        "colab": {
          "base_uri": "https://localhost:8080/"
        },
        "outputId": "c77ccefb-e8c8-4e2b-e7ce-95cda1c98c6f"
      },
      "source": [
        "users_count['overall_velocity'] = 0\r\n",
        "\r\n",
        "for user in users_count['user_id'].tolist():\r\n",
        "\r\n",
        "  user_len = len(df.loc[df['user_id'] == user])\r\n",
        "  delta_t = (df.loc[df['user_id'] == user].iloc[-1, 2] -\r\n",
        "             df.loc[df['user_id'] == user].iloc[0, 2]).days\r\n",
        "\r\n",
        "  if delta_t != 0:\r\n",
        "\r\n",
        "    users_count.loc[users_count['user_id'] == user, ['overall_velocity']] = user_len/delta_t\r\n",
        "\r\n",
        "  else:\r\n",
        "    users_count.loc[users_count['user_id'] == user, ['overall_velocity']] = user_len\r\n",
        "\r\n",
        "  if user % 5000 == 0: print(user)"
      ],
      "execution_count": 36,
      "outputs": [
        {
          "output_type": "stream",
          "text": [
            "0\n",
            "5000\n",
            "10000\n",
            "15000\n",
            "20000\n",
            "25000\n",
            "30000\n",
            "35000\n",
            "40000\n",
            "45000\n",
            "50000\n",
            "55000\n",
            "60000\n",
            "65000\n",
            "70000\n",
            "75000\n",
            "80000\n",
            "85000\n",
            "90000\n",
            "95000\n",
            "100000\n"
          ],
          "name": "stdout"
        }
      ]
    },
    {
      "cell_type": "code",
      "metadata": {
        "id": "LzjpRiqGAqb0",
        "colab": {
          "base_uri": "https://localhost:8080/",
          "height": 204
        },
        "outputId": "b690f17a-995e-4f6b-c582-ffa90981db0b"
      },
      "source": [
        " users_count.head()"
      ],
      "execution_count": 37,
      "outputs": [
        {
          "output_type": "execute_result",
          "data": {
            "text/html": [
              "<div>\n",
              "<style scoped>\n",
              "    .dataframe tbody tr th:only-of-type {\n",
              "        vertical-align: middle;\n",
              "    }\n",
              "\n",
              "    .dataframe tbody tr th {\n",
              "        vertical-align: top;\n",
              "    }\n",
              "\n",
              "    .dataframe thead th {\n",
              "        text-align: right;\n",
              "    }\n",
              "</style>\n",
              "<table border=\"1\" class=\"dataframe\">\n",
              "  <thead>\n",
              "    <tr style=\"text-align: right;\">\n",
              "      <th></th>\n",
              "      <th>user_id</th>\n",
              "      <th>total_transactions</th>\n",
              "      <th>quartilebased_suspicious_flag</th>\n",
              "      <th>Discover</th>\n",
              "      <th>JCB_15</th>\n",
              "      <th>JCB_16</th>\n",
              "      <th>Maestro</th>\n",
              "      <th>Mastercard</th>\n",
              "      <th>american_express</th>\n",
              "      <th>diners_club</th>\n",
              "      <th>visa_13</th>\n",
              "      <th>visa_16</th>\n",
              "      <th>visa_19</th>\n",
              "      <th>overall_velocity</th>\n",
              "    </tr>\n",
              "  </thead>\n",
              "  <tbody>\n",
              "    <tr>\n",
              "      <th>0</th>\n",
              "      <td>0</td>\n",
              "      <td>21</td>\n",
              "      <td>0</td>\n",
              "      <td>0.0</td>\n",
              "      <td>1.0</td>\n",
              "      <td>5.0</td>\n",
              "      <td>0.0</td>\n",
              "      <td>0.0</td>\n",
              "      <td>5.0</td>\n",
              "      <td>1.0</td>\n",
              "      <td>2.0</td>\n",
              "      <td>5.0</td>\n",
              "      <td>2.0</td>\n",
              "      <td>21.000000</td>\n",
              "    </tr>\n",
              "    <tr>\n",
              "      <th>1</th>\n",
              "      <td>1</td>\n",
              "      <td>51</td>\n",
              "      <td>0</td>\n",
              "      <td>4.0</td>\n",
              "      <td>2.0</td>\n",
              "      <td>12.0</td>\n",
              "      <td>4.0</td>\n",
              "      <td>5.0</td>\n",
              "      <td>3.0</td>\n",
              "      <td>4.0</td>\n",
              "      <td>4.0</td>\n",
              "      <td>9.0</td>\n",
              "      <td>4.0</td>\n",
              "      <td>7.285714</td>\n",
              "    </tr>\n",
              "    <tr>\n",
              "      <th>2</th>\n",
              "      <td>2</td>\n",
              "      <td>63</td>\n",
              "      <td>0</td>\n",
              "      <td>4.0</td>\n",
              "      <td>7.0</td>\n",
              "      <td>11.0</td>\n",
              "      <td>4.0</td>\n",
              "      <td>7.0</td>\n",
              "      <td>6.0</td>\n",
              "      <td>3.0</td>\n",
              "      <td>5.0</td>\n",
              "      <td>13.0</td>\n",
              "      <td>3.0</td>\n",
              "      <td>7.875000</td>\n",
              "    </tr>\n",
              "    <tr>\n",
              "      <th>3</th>\n",
              "      <td>3</td>\n",
              "      <td>17</td>\n",
              "      <td>0</td>\n",
              "      <td>1.0</td>\n",
              "      <td>1.0</td>\n",
              "      <td>7.0</td>\n",
              "      <td>1.0</td>\n",
              "      <td>1.0</td>\n",
              "      <td>1.0</td>\n",
              "      <td>1.0</td>\n",
              "      <td>2.0</td>\n",
              "      <td>1.0</td>\n",
              "      <td>1.0</td>\n",
              "      <td>2.428571</td>\n",
              "    </tr>\n",
              "    <tr>\n",
              "      <th>4</th>\n",
              "      <td>4</td>\n",
              "      <td>65</td>\n",
              "      <td>0</td>\n",
              "      <td>4.0</td>\n",
              "      <td>4.0</td>\n",
              "      <td>13.0</td>\n",
              "      <td>8.0</td>\n",
              "      <td>3.0</td>\n",
              "      <td>8.0</td>\n",
              "      <td>7.0</td>\n",
              "      <td>4.0</td>\n",
              "      <td>9.0</td>\n",
              "      <td>5.0</td>\n",
              "      <td>8.125000</td>\n",
              "    </tr>\n",
              "  </tbody>\n",
              "</table>\n",
              "</div>"
            ],
            "text/plain": [
              "   user_id  total_transactions  ...  visa_19  overall_velocity\n",
              "0        0                  21  ...      2.0         21.000000\n",
              "1        1                  51  ...      4.0          7.285714\n",
              "2        2                  63  ...      3.0          7.875000\n",
              "3        3                  17  ...      1.0          2.428571\n",
              "4        4                  65  ...      5.0          8.125000\n",
              "\n",
              "[5 rows x 14 columns]"
            ]
          },
          "metadata": {
            "tags": []
          },
          "execution_count": 37
        }
      ]
    },
    {
      "cell_type": "code",
      "metadata": {
        "id": "slwt2apJA3Ai",
        "colab": {
          "base_uri": "https://localhost:8080/",
          "height": 297
        },
        "outputId": "c1838a14-880f-40f5-87c5-40cdb1c0829e"
      },
      "source": [
        "sns.kdeplot(users_count.loc[users_count['quartilebased_suspicious_flag'] == 1]['overall_velocity'])\r\n",
        "sns.kdeplot(users_count.loc[users_count['quartilebased_suspicious_flag'] == 0]['overall_velocity'])"
      ],
      "execution_count": 38,
      "outputs": [
        {
          "output_type": "execute_result",
          "data": {
            "text/plain": [
              "<matplotlib.axes._subplots.AxesSubplot at 0x7f999f4e9588>"
            ]
          },
          "metadata": {
            "tags": []
          },
          "execution_count": 38
        },
        {
          "output_type": "display_data",
          "data": {
            "image/png": "[encoded data removed]",
            "text/plain": [
              "<Figure size 432x288 with 1 Axes>"
            ]
          },
          "metadata": {
            "tags": [],
            "needs_background": "light"
          }
        }
      ]
    },
    {
      "cell_type": "code",
      "metadata": {
        "id": "jY5w03aIrO7e"
      },
      "source": [
        "users_count.to_csv(os.path.join(BASE_DIR, \"users_count.csv\"), index=False)"
      ],
      "execution_count": 39,
      "outputs": []
    },
    {
      "cell_type": "code",
      "metadata": {
        "id": "7RyJX3w6ru9T"
      },
      "source": [
        "users_count = pd.read_csv(\"users_count.csv\")"
      ],
      "execution_count": null,
      "outputs": []
    },
    {
      "cell_type": "code",
      "metadata": {
        "id": "FiSanj8PX2Tb",
        "colab": {
          "base_uri": "https://localhost:8080/",
          "height": 204
        },
        "outputId": "c7971f79-afc2-496e-ee24-92a280e93fec"
      },
      "source": [
        "users_count.head()"
      ],
      "execution_count": 40,
      "outputs": [
        {
          "output_type": "execute_result",
          "data": {
            "text/html": [
              "<div>\n",
              "<style scoped>\n",
              "    .dataframe tbody tr th:only-of-type {\n",
              "        vertical-align: middle;\n",
              "    }\n",
              "\n",
              "    .dataframe tbody tr th {\n",
              "        vertical-align: top;\n",
              "    }\n",
              "\n",
              "    .dataframe thead th {\n",
              "        text-align: right;\n",
              "    }\n",
              "</style>\n",
              "<table border=\"1\" class=\"dataframe\">\n",
              "  <thead>\n",
              "    <tr style=\"text-align: right;\">\n",
              "      <th></th>\n",
              "      <th>user_id</th>\n",
              "      <th>total_transactions</th>\n",
              "      <th>quartilebased_suspicious_flag</th>\n",
              "      <th>Discover</th>\n",
              "      <th>JCB_15</th>\n",
              "      <th>JCB_16</th>\n",
              "      <th>Maestro</th>\n",
              "      <th>Mastercard</th>\n",
              "      <th>american_express</th>\n",
              "      <th>diners_club</th>\n",
              "      <th>visa_13</th>\n",
              "      <th>visa_16</th>\n",
              "      <th>visa_19</th>\n",
              "      <th>overall_velocity</th>\n",
              "    </tr>\n",
              "  </thead>\n",
              "  <tbody>\n",
              "    <tr>\n",
              "      <th>0</th>\n",
              "      <td>0</td>\n",
              "      <td>21</td>\n",
              "      <td>0</td>\n",
              "      <td>0.0</td>\n",
              "      <td>1.0</td>\n",
              "      <td>5.0</td>\n",
              "      <td>0.0</td>\n",
              "      <td>0.0</td>\n",
              "      <td>5.0</td>\n",
              "      <td>1.0</td>\n",
              "      <td>2.0</td>\n",
              "      <td>5.0</td>\n",
              "      <td>2.0</td>\n",
              "      <td>21.000000</td>\n",
              "    </tr>\n",
              "    <tr>\n",
              "      <th>1</th>\n",
              "      <td>1</td>\n",
              "      <td>51</td>\n",
              "      <td>0</td>\n",
              "      <td>4.0</td>\n",
              "      <td>2.0</td>\n",
              "      <td>12.0</td>\n",
              "      <td>4.0</td>\n",
              "      <td>5.0</td>\n",
              "      <td>3.0</td>\n",
              "      <td>4.0</td>\n",
              "      <td>4.0</td>\n",
              "      <td>9.0</td>\n",
              "      <td>4.0</td>\n",
              "      <td>7.285714</td>\n",
              "    </tr>\n",
              "    <tr>\n",
              "      <th>2</th>\n",
              "      <td>2</td>\n",
              "      <td>63</td>\n",
              "      <td>0</td>\n",
              "      <td>4.0</td>\n",
              "      <td>7.0</td>\n",
              "      <td>11.0</td>\n",
              "      <td>4.0</td>\n",
              "      <td>7.0</td>\n",
              "      <td>6.0</td>\n",
              "      <td>3.0</td>\n",
              "      <td>5.0</td>\n",
              "      <td>13.0</td>\n",
              "      <td>3.0</td>\n",
              "      <td>7.875000</td>\n",
              "    </tr>\n",
              "    <tr>\n",
              "      <th>3</th>\n",
              "      <td>3</td>\n",
              "      <td>17</td>\n",
              "      <td>0</td>\n",
              "      <td>1.0</td>\n",
              "      <td>1.0</td>\n",
              "      <td>7.0</td>\n",
              "      <td>1.0</td>\n",
              "      <td>1.0</td>\n",
              "      <td>1.0</td>\n",
              "      <td>1.0</td>\n",
              "      <td>2.0</td>\n",
              "      <td>1.0</td>\n",
              "      <td>1.0</td>\n",
              "      <td>2.428571</td>\n",
              "    </tr>\n",
              "    <tr>\n",
              "      <th>4</th>\n",
              "      <td>4</td>\n",
              "      <td>65</td>\n",
              "      <td>0</td>\n",
              "      <td>4.0</td>\n",
              "      <td>4.0</td>\n",
              "      <td>13.0</td>\n",
              "      <td>8.0</td>\n",
              "      <td>3.0</td>\n",
              "      <td>8.0</td>\n",
              "      <td>7.0</td>\n",
              "      <td>4.0</td>\n",
              "      <td>9.0</td>\n",
              "      <td>5.0</td>\n",
              "      <td>8.125000</td>\n",
              "    </tr>\n",
              "  </tbody>\n",
              "</table>\n",
              "</div>"
            ],
            "text/plain": [
              "   user_id  total_transactions  ...  visa_19  overall_velocity\n",
              "0        0                  21  ...      2.0         21.000000\n",
              "1        1                  51  ...      4.0          7.285714\n",
              "2        2                  63  ...      3.0          7.875000\n",
              "3        3                  17  ...      1.0          2.428571\n",
              "4        4                  65  ...      5.0          8.125000\n",
              "\n",
              "[5 rows x 14 columns]"
            ]
          },
          "metadata": {
            "tags": []
          },
          "execution_count": 40
        }
      ]
    },
    {
      "cell_type": "code",
      "metadata": {
        "id": "ag9I7VPMYBeT",
        "colab": {
          "base_uri": "https://localhost:8080/",
          "height": 280
        },
        "outputId": "efe7ec72-1e6b-4a06-d71a-768885772e09"
      },
      "source": [
        "sns.boxplot(x=users_count['overall_velocity']);"
      ],
      "execution_count": 41,
      "outputs": [
        {
          "output_type": "display_data",
          "data": {
            "image/png": "[encoded data removed]",
            "text/plain": [
              "<Figure size 432x288 with 1 Axes>"
            ]
          },
          "metadata": {
            "tags": [],
            "needs_background": "light"
          }
        }
      ]
    },
    {
      "cell_type": "code",
      "metadata": {
        "id": "_CqqPrHQYJz8",
        "colab": {
          "base_uri": "https://localhost:8080/"
        },
        "outputId": "3df673cd-6ebc-428e-a566-b6408c2e3d4e"
      },
      "source": [
        "#Calculate interquartilic range for outlier detection\r\n",
        "IQR_ovr = users_count['overall_velocity'].quantile(0.75) - users_count['overall_velocity'].quantile(0.25)\r\n",
        "\r\n",
        "ovr_iqr_inf_limit = users_count['overall_velocity'].quantile(0.25) - (IQR_ovr * 1.5)\r\n",
        "ovr_iqr_sup_limit = users_count['overall_velocity'].quantile(0.75) + (IQR_ovr * 1.5)\r\n",
        "\r\n",
        "print('1st Quartile - 1.5 * DIR = {}'.format(ovr_iqr_inf_limit))\r\n",
        "print('3rd Quartile + 1.5 * DIR = {}\\n'.format(ovr_iqr_sup_limit))"
      ],
      "execution_count": 42,
      "outputs": [
        {
          "output_type": "stream",
          "text": [
            "1st Quartile - 1.5 * DIR = 0.008928571428571175\n",
            "3rd Quartile + 1.5 * DIR = 11.651785714285715\n",
            "\n"
          ],
          "name": "stdout"
        }
      ]
    },
    {
      "cell_type": "code",
      "metadata": {
        "id": "5eM3730IaUvM",
        "colab": {
          "base_uri": "https://localhost:8080/"
        },
        "outputId": "e290ce8d-b3ce-4bbc-e8f1-86afd96b9d65"
      },
      "source": [
        "print('There are {} users with more than 11 transactions/day'.format(\r\n",
        "    len([x for x in users_count['overall_velocity'].tolist() if x > ovr_iqr_sup_limit])))\r\n",
        "\r\n",
        "print('There are {} users with less than 0.008 transactions/day'.format(\r\n",
        "    len([x for x in users_count['overall_velocity'].tolist() if x < ovr_iqr_inf_limit])))"
      ],
      "execution_count": 43,
      "outputs": [
        {
          "output_type": "stream",
          "text": [
            "There are 6184 users with more than 11 transactions/day\n",
            "There are 0 users with less than 0.008 transactions/day\n"
          ],
          "name": "stdout"
        }
      ]
    },
    {
      "cell_type": "code",
      "metadata": {
        "id": "O-Qpe82IzDQA"
      },
      "source": [
        "users_count['ovrvelocity_suspicious_flag'] = np.where(users_count['overall_velocity'] > ovr_iqr_sup_limit, 1, 0)"
      ],
      "execution_count": 44,
      "outputs": []
    },
    {
      "cell_type": "code",
      "metadata": {
        "id": "xrEZbqQdeKSO",
        "colab": {
          "base_uri": "https://localhost:8080/"
        },
        "outputId": "6ea6c436-2b4f-4e6a-df21-5b2070842839"
      },
      "source": [
        "##THIS ALGORITHM CALCULATES THE AVERAGE TRANSACTION VELOCITY PER HOUR\r\n",
        "\r\n",
        "users_count['avg_hourly_velocity'] = 0\r\n",
        "\r\n",
        "for user in users_count['user_id'].tolist():\r\n",
        "\r\n",
        "  a = df.loc[df['user_id'] == user].copy()\r\n",
        "\r\n",
        "  count = 0\r\n",
        "  for day in a.current_day.unique():\r\n",
        "\r\n",
        "    count += len(a[a['current_day'] == day])/len(\r\n",
        "        a[a['current_day'] == day].current_hour.unique())\r\n",
        "\r\n",
        "    #print(day, len(a[a['current_day'] == day])/len(a[a['current_day'] == day].current_hour.unique()))\r\n",
        "\r\n",
        "  users_count.loc[users_count['user_id'] == user, \r\n",
        "                  ['avg_hourly_velocity']] = count/len(a.current_day.unique())\r\n",
        "  \r\n",
        "  if user % 5000 == 0: print(user)"
      ],
      "execution_count": 45,
      "outputs": [
        {
          "output_type": "stream",
          "text": [
            "0\n",
            "5000\n",
            "10000\n",
            "15000\n",
            "20000\n",
            "25000\n",
            "30000\n",
            "35000\n",
            "40000\n",
            "45000\n",
            "50000\n",
            "55000\n",
            "60000\n",
            "65000\n",
            "70000\n",
            "75000\n",
            "80000\n",
            "85000\n",
            "90000\n",
            "95000\n",
            "100000\n"
          ],
          "name": "stdout"
        }
      ]
    },
    {
      "cell_type": "code",
      "metadata": {
        "id": "etdmw8-XtZeG"
      },
      "source": [
        "users_count.to_csv(os.path.join(BASE_DIR, \"users_profile.csv\"), index=False)"
      ],
      "execution_count": 46,
      "outputs": []
    },
    {
      "cell_type": "code",
      "metadata": {
        "id": "Jawkephjur4j",
        "colab": {
          "base_uri": "https://localhost:8080/",
          "height": 297
        },
        "outputId": "358e807f-bcce-480d-ae70-6d1d33d10396"
      },
      "source": [
        "sns.kdeplot(users_count[users_count['quartilebased_suspicious_flag'] == 1]['avg_hourly_velocity'], label='1')\r\n",
        "sns.kdeplot(users_count[users_count['quartilebased_suspicious_flag'] == 0]['avg_hourly_velocity'], label='0')\r\n",
        "plt.legend()"
      ],
      "execution_count": 47,
      "outputs": [
        {
          "output_type": "execute_result",
          "data": {
            "text/plain": [
              "<matplotlib.legend.Legend at 0x7f999f511518>"
            ]
          },
          "metadata": {
            "tags": []
          },
          "execution_count": 47
        },
        {
          "output_type": "display_data",
          "data": {
            "image/png": "[encoded data removed]",
            "text/plain": [
              "<Figure size 432x288 with 1 Axes>"
            ]
          },
          "metadata": {
            "tags": [],
            "needs_background": "light"
          }
        }
      ]
    },
    {
      "cell_type": "code",
      "metadata": {
        "id": "JkDImuYAwjlu",
        "colab": {
          "base_uri": "https://localhost:8080/",
          "height": 280
        },
        "outputId": "e440dbf7-2aeb-495e-9164-7775bd7e5fab"
      },
      "source": [
        "sns.boxplot(x=users_count['avg_hourly_velocity']);"
      ],
      "execution_count": 48,
      "outputs": [
        {
          "output_type": "display_data",
          "data": {
            "image/png": "[encoded data removed]",
            "text/plain": [
              "<Figure size 432x288 with 1 Axes>"
            ]
          },
          "metadata": {
            "tags": [],
            "needs_background": "light"
          }
        }
      ]
    },
    {
      "cell_type": "code",
      "metadata": {
        "id": "04H4z0M3x2zp",
        "colab": {
          "base_uri": "https://localhost:8080/"
        },
        "outputId": "cec4e8a7-11c7-4522-f3e4-b010470e1a8d"
      },
      "source": [
        "#Calculate interquartilic range for outlier detection\r\n",
        "IQR_hour = users_count['avg_hourly_velocity'].quantile(0.75) - users_count['avg_hourly_velocity'].quantile(0.25)\r\n",
        "\r\n",
        "hour_iqr_inf_limit = users_count['avg_hourly_velocity'].quantile(0.25) - (IQR_hour * 1.5)\r\n",
        "hour_iqr_sup_limit = users_count['avg_hourly_velocity'].quantile(0.75) + (IQR_hour * 1.5)\r\n",
        "\r\n",
        "print('1st Quartile - 1.5 * DIR = {}'.format(hour_iqr_inf_limit))\r\n",
        "print('3rd Quartile + 1.5 * DIR = {}\\n'.format(hour_iqr_sup_limit))"
      ],
      "execution_count": 49,
      "outputs": [
        {
          "output_type": "stream",
          "text": [
            "1st Quartile - 1.5 * DIR = 0.10833333333333384\n",
            "3rd Quartile + 1.5 * DIR = 6.041666666666666\n",
            "\n"
          ],
          "name": "stdout"
        }
      ]
    },
    {
      "cell_type": "code",
      "metadata": {
        "id": "l9ArnFHVyBv-",
        "colab": {
          "base_uri": "https://localhost:8080/"
        },
        "outputId": "348678e5-a98a-456c-c8a9-2546df5634f4"
      },
      "source": [
        "print('There are {} users with more than 6 transactions/hour'.format(\r\n",
        "    len([x for x in users_count['avg_hourly_velocity'].tolist() if x > hour_iqr_sup_limit])))\r\n",
        "\r\n",
        "print('There are {} users with less than 0.1 transactions/hour'.format(\r\n",
        "    len([x for x in users_count['avg_hourly_velocity'].tolist() if x < hour_iqr_inf_limit])))"
      ],
      "execution_count": 50,
      "outputs": [
        {
          "output_type": "stream",
          "text": [
            "There are 2177 users with more than 6 transactions/hour\n",
            "There are 0 users with less than 0.1 transactions/hour\n"
          ],
          "name": "stdout"
        }
      ]
    },
    {
      "cell_type": "code",
      "metadata": {
        "id": "7-PxYhpYyMbW"
      },
      "source": [
        "users_count['hourvelocity_suspicious_flag'] = np.where(users_count['avg_hourly_velocity'] > hour_iqr_sup_limit, 1, 0)"
      ],
      "execution_count": 51,
      "outputs": []
    },
    {
      "cell_type": "code",
      "metadata": {
        "id": "8DgUQZRFz5pa",
        "colab": {
          "base_uri": "https://localhost:8080/",
          "height": 439
        },
        "outputId": "cf242df8-4e39-422d-da40-77c44909d5c8"
      },
      "source": [
        "users_count"
      ],
      "execution_count": 52,
      "outputs": [
        {
          "output_type": "execute_result",
          "data": {
            "text/html": [
              "<div>\n",
              "<style scoped>\n",
              "    .dataframe tbody tr th:only-of-type {\n",
              "        vertical-align: middle;\n",
              "    }\n",
              "\n",
              "    .dataframe tbody tr th {\n",
              "        vertical-align: top;\n",
              "    }\n",
              "\n",
              "    .dataframe thead th {\n",
              "        text-align: right;\n",
              "    }\n",
              "</style>\n",
              "<table border=\"1\" class=\"dataframe\">\n",
              "  <thead>\n",
              "    <tr style=\"text-align: right;\">\n",
              "      <th></th>\n",
              "      <th>user_id</th>\n",
              "      <th>total_transactions</th>\n",
              "      <th>quartilebased_suspicious_flag</th>\n",
              "      <th>Discover</th>\n",
              "      <th>JCB_15</th>\n",
              "      <th>JCB_16</th>\n",
              "      <th>Maestro</th>\n",
              "      <th>Mastercard</th>\n",
              "      <th>american_express</th>\n",
              "      <th>diners_club</th>\n",
              "      <th>visa_13</th>\n",
              "      <th>visa_16</th>\n",
              "      <th>visa_19</th>\n",
              "      <th>overall_velocity</th>\n",
              "      <th>ovrvelocity_suspicious_flag</th>\n",
              "      <th>avg_hourly_velocity</th>\n",
              "      <th>hourvelocity_suspicious_flag</th>\n",
              "    </tr>\n",
              "  </thead>\n",
              "  <tbody>\n",
              "    <tr>\n",
              "      <th>0</th>\n",
              "      <td>0</td>\n",
              "      <td>21</td>\n",
              "      <td>0</td>\n",
              "      <td>0.0</td>\n",
              "      <td>1.0</td>\n",
              "      <td>5.0</td>\n",
              "      <td>0.0</td>\n",
              "      <td>0.0</td>\n",
              "      <td>5.0</td>\n",
              "      <td>1.0</td>\n",
              "      <td>2.0</td>\n",
              "      <td>5.0</td>\n",
              "      <td>2.0</td>\n",
              "      <td>21.000000</td>\n",
              "      <td>1</td>\n",
              "      <td>3.833333</td>\n",
              "      <td>0</td>\n",
              "    </tr>\n",
              "    <tr>\n",
              "      <th>1</th>\n",
              "      <td>1</td>\n",
              "      <td>51</td>\n",
              "      <td>0</td>\n",
              "      <td>4.0</td>\n",
              "      <td>2.0</td>\n",
              "      <td>12.0</td>\n",
              "      <td>4.0</td>\n",
              "      <td>5.0</td>\n",
              "      <td>3.0</td>\n",
              "      <td>4.0</td>\n",
              "      <td>4.0</td>\n",
              "      <td>9.0</td>\n",
              "      <td>4.0</td>\n",
              "      <td>7.285714</td>\n",
              "      <td>0</td>\n",
              "      <td>3.683333</td>\n",
              "      <td>0</td>\n",
              "    </tr>\n",
              "    <tr>\n",
              "      <th>2</th>\n",
              "      <td>2</td>\n",
              "      <td>63</td>\n",
              "      <td>0</td>\n",
              "      <td>4.0</td>\n",
              "      <td>7.0</td>\n",
              "      <td>11.0</td>\n",
              "      <td>4.0</td>\n",
              "      <td>7.0</td>\n",
              "      <td>6.0</td>\n",
              "      <td>3.0</td>\n",
              "      <td>5.0</td>\n",
              "      <td>13.0</td>\n",
              "      <td>3.0</td>\n",
              "      <td>7.875000</td>\n",
              "      <td>0</td>\n",
              "      <td>4.600000</td>\n",
              "      <td>0</td>\n",
              "    </tr>\n",
              "    <tr>\n",
              "      <th>3</th>\n",
              "      <td>3</td>\n",
              "      <td>17</td>\n",
              "      <td>0</td>\n",
              "      <td>1.0</td>\n",
              "      <td>1.0</td>\n",
              "      <td>7.0</td>\n",
              "      <td>1.0</td>\n",
              "      <td>1.0</td>\n",
              "      <td>1.0</td>\n",
              "      <td>1.0</td>\n",
              "      <td>2.0</td>\n",
              "      <td>1.0</td>\n",
              "      <td>1.0</td>\n",
              "      <td>2.428571</td>\n",
              "      <td>0</td>\n",
              "      <td>1.500000</td>\n",
              "      <td>0</td>\n",
              "    </tr>\n",
              "    <tr>\n",
              "      <th>4</th>\n",
              "      <td>4</td>\n",
              "      <td>65</td>\n",
              "      <td>0</td>\n",
              "      <td>4.0</td>\n",
              "      <td>4.0</td>\n",
              "      <td>13.0</td>\n",
              "      <td>8.0</td>\n",
              "      <td>3.0</td>\n",
              "      <td>8.0</td>\n",
              "      <td>7.0</td>\n",
              "      <td>4.0</td>\n",
              "      <td>9.0</td>\n",
              "      <td>5.0</td>\n",
              "      <td>8.125000</td>\n",
              "      <td>0</td>\n",
              "      <td>5.400000</td>\n",
              "      <td>0</td>\n",
              "    </tr>\n",
              "    <tr>\n",
              "      <th>...</th>\n",
              "      <td>...</td>\n",
              "      <td>...</td>\n",
              "      <td>...</td>\n",
              "      <td>...</td>\n",
              "      <td>...</td>\n",
              "      <td>...</td>\n",
              "      <td>...</td>\n",
              "      <td>...</td>\n",
              "      <td>...</td>\n",
              "      <td>...</td>\n",
              "      <td>...</td>\n",
              "      <td>...</td>\n",
              "      <td>...</td>\n",
              "      <td>...</td>\n",
              "      <td>...</td>\n",
              "      <td>...</td>\n",
              "      <td>...</td>\n",
              "    </tr>\n",
              "    <tr>\n",
              "      <th>99995</th>\n",
              "      <td>99996</td>\n",
              "      <td>63</td>\n",
              "      <td>0</td>\n",
              "      <td>7.0</td>\n",
              "      <td>7.0</td>\n",
              "      <td>8.0</td>\n",
              "      <td>5.0</td>\n",
              "      <td>3.0</td>\n",
              "      <td>4.0</td>\n",
              "      <td>7.0</td>\n",
              "      <td>5.0</td>\n",
              "      <td>11.0</td>\n",
              "      <td>6.0</td>\n",
              "      <td>7.875000</td>\n",
              "      <td>0</td>\n",
              "      <td>4.200000</td>\n",
              "      <td>0</td>\n",
              "    </tr>\n",
              "    <tr>\n",
              "      <th>99996</th>\n",
              "      <td>99997</td>\n",
              "      <td>64</td>\n",
              "      <td>0</td>\n",
              "      <td>6.0</td>\n",
              "      <td>8.0</td>\n",
              "      <td>11.0</td>\n",
              "      <td>6.0</td>\n",
              "      <td>3.0</td>\n",
              "      <td>8.0</td>\n",
              "      <td>2.0</td>\n",
              "      <td>7.0</td>\n",
              "      <td>6.0</td>\n",
              "      <td>7.0</td>\n",
              "      <td>8.000000</td>\n",
              "      <td>0</td>\n",
              "      <td>4.840000</td>\n",
              "      <td>0</td>\n",
              "    </tr>\n",
              "    <tr>\n",
              "      <th>99997</th>\n",
              "      <td>99998</td>\n",
              "      <td>40</td>\n",
              "      <td>0</td>\n",
              "      <td>0.0</td>\n",
              "      <td>3.0</td>\n",
              "      <td>6.0</td>\n",
              "      <td>4.0</td>\n",
              "      <td>2.0</td>\n",
              "      <td>5.0</td>\n",
              "      <td>0.0</td>\n",
              "      <td>6.0</td>\n",
              "      <td>8.0</td>\n",
              "      <td>6.0</td>\n",
              "      <td>5.000000</td>\n",
              "      <td>0</td>\n",
              "      <td>2.393333</td>\n",
              "      <td>0</td>\n",
              "    </tr>\n",
              "    <tr>\n",
              "      <th>99998</th>\n",
              "      <td>99999</td>\n",
              "      <td>30</td>\n",
              "      <td>0</td>\n",
              "      <td>3.0</td>\n",
              "      <td>3.0</td>\n",
              "      <td>5.0</td>\n",
              "      <td>2.0</td>\n",
              "      <td>0.0</td>\n",
              "      <td>8.0</td>\n",
              "      <td>1.0</td>\n",
              "      <td>1.0</td>\n",
              "      <td>3.0</td>\n",
              "      <td>4.0</td>\n",
              "      <td>5.000000</td>\n",
              "      <td>0</td>\n",
              "      <td>2.866667</td>\n",
              "      <td>0</td>\n",
              "    </tr>\n",
              "    <tr>\n",
              "      <th>99999</th>\n",
              "      <td>100000</td>\n",
              "      <td>75</td>\n",
              "      <td>0</td>\n",
              "      <td>9.0</td>\n",
              "      <td>7.0</td>\n",
              "      <td>9.0</td>\n",
              "      <td>8.0</td>\n",
              "      <td>4.0</td>\n",
              "      <td>7.0</td>\n",
              "      <td>8.0</td>\n",
              "      <td>5.0</td>\n",
              "      <td>12.0</td>\n",
              "      <td>6.0</td>\n",
              "      <td>9.375000</td>\n",
              "      <td>0</td>\n",
              "      <td>6.020000</td>\n",
              "      <td>0</td>\n",
              "    </tr>\n",
              "  </tbody>\n",
              "</table>\n",
              "<p>100000 rows × 17 columns</p>\n",
              "</div>"
            ],
            "text/plain": [
              "       user_id  ...  hourvelocity_suspicious_flag\n",
              "0            0  ...                             0\n",
              "1            1  ...                             0\n",
              "2            2  ...                             0\n",
              "3            3  ...                             0\n",
              "4            4  ...                             0\n",
              "...        ...  ...                           ...\n",
              "99995    99996  ...                             0\n",
              "99996    99997  ...                             0\n",
              "99997    99998  ...                             0\n",
              "99998    99999  ...                             0\n",
              "99999   100000  ...                             0\n",
              "\n",
              "[100000 rows x 17 columns]"
            ]
          },
          "metadata": {
            "tags": []
          },
          "execution_count": 52
        }
      ]
    },
    {
      "cell_type": "code",
      "metadata": {
        "id": "kFdfmQByz7Fx",
        "colab": {
          "base_uri": "https://localhost:8080/"
        },
        "outputId": "5c9c7aaf-ad6e-4d13-b6c3-ae8caced3c75"
      },
      "source": [
        "users_count['hourvelocity_suspicious_flag'].value_counts()"
      ],
      "execution_count": 53,
      "outputs": [
        {
          "output_type": "execute_result",
          "data": {
            "text/plain": [
              "0    97823\n",
              "1     2177\n",
              "Name: hourvelocity_suspicious_flag, dtype: int64"
            ]
          },
          "metadata": {
            "tags": []
          },
          "execution_count": 53
        }
      ]
    },
    {
      "cell_type": "code",
      "metadata": {
        "id": "lrCMboWm0LiY",
        "colab": {
          "base_uri": "https://localhost:8080/",
          "height": 439
        },
        "outputId": "943001b1-103b-4b27-e41f-4ef06a5f7552"
      },
      "source": [
        "users_count.loc[(users_count['quartilebased_suspicious_flag'] == 1) & \r\n",
        "                (users_count['ovrvelocity_suspicious_flag'] == 1) & \r\n",
        "                (users_count['hourvelocity_suspicious_flag'] == 1)]"
      ],
      "execution_count": 54,
      "outputs": [
        {
          "output_type": "execute_result",
          "data": {
            "text/html": [
              "<div>\n",
              "<style scoped>\n",
              "    .dataframe tbody tr th:only-of-type {\n",
              "        vertical-align: middle;\n",
              "    }\n",
              "\n",
              "    .dataframe tbody tr th {\n",
              "        vertical-align: top;\n",
              "    }\n",
              "\n",
              "    .dataframe thead th {\n",
              "        text-align: right;\n",
              "    }\n",
              "</style>\n",
              "<table border=\"1\" class=\"dataframe\">\n",
              "  <thead>\n",
              "    <tr style=\"text-align: right;\">\n",
              "      <th></th>\n",
              "      <th>user_id</th>\n",
              "      <th>total_transactions</th>\n",
              "      <th>quartilebased_suspicious_flag</th>\n",
              "      <th>Discover</th>\n",
              "      <th>JCB_15</th>\n",
              "      <th>JCB_16</th>\n",
              "      <th>Maestro</th>\n",
              "      <th>Mastercard</th>\n",
              "      <th>american_express</th>\n",
              "      <th>diners_club</th>\n",
              "      <th>visa_13</th>\n",
              "      <th>visa_16</th>\n",
              "      <th>visa_19</th>\n",
              "      <th>overall_velocity</th>\n",
              "      <th>ovrvelocity_suspicious_flag</th>\n",
              "      <th>avg_hourly_velocity</th>\n",
              "      <th>hourvelocity_suspicious_flag</th>\n",
              "    </tr>\n",
              "  </thead>\n",
              "  <tbody>\n",
              "    <tr>\n",
              "      <th>58</th>\n",
              "      <td>58</td>\n",
              "      <td>106</td>\n",
              "      <td>1</td>\n",
              "      <td>10.0</td>\n",
              "      <td>13.0</td>\n",
              "      <td>14.0</td>\n",
              "      <td>7.0</td>\n",
              "      <td>9.0</td>\n",
              "      <td>6.0</td>\n",
              "      <td>8.0</td>\n",
              "      <td>10.0</td>\n",
              "      <td>20.0</td>\n",
              "      <td>9.0</td>\n",
              "      <td>13.250000</td>\n",
              "      <td>1</td>\n",
              "      <td>8.760000</td>\n",
              "      <td>1</td>\n",
              "    </tr>\n",
              "    <tr>\n",
              "      <th>125</th>\n",
              "      <td>125</td>\n",
              "      <td>107</td>\n",
              "      <td>1</td>\n",
              "      <td>12.0</td>\n",
              "      <td>12.0</td>\n",
              "      <td>17.0</td>\n",
              "      <td>4.0</td>\n",
              "      <td>3.0</td>\n",
              "      <td>10.0</td>\n",
              "      <td>10.0</td>\n",
              "      <td>7.0</td>\n",
              "      <td>25.0</td>\n",
              "      <td>7.0</td>\n",
              "      <td>13.375000</td>\n",
              "      <td>1</td>\n",
              "      <td>7.900000</td>\n",
              "      <td>1</td>\n",
              "    </tr>\n",
              "    <tr>\n",
              "      <th>194</th>\n",
              "      <td>194</td>\n",
              "      <td>107</td>\n",
              "      <td>1</td>\n",
              "      <td>9.0</td>\n",
              "      <td>6.0</td>\n",
              "      <td>13.0</td>\n",
              "      <td>13.0</td>\n",
              "      <td>14.0</td>\n",
              "      <td>9.0</td>\n",
              "      <td>8.0</td>\n",
              "      <td>11.0</td>\n",
              "      <td>11.0</td>\n",
              "      <td>13.0</td>\n",
              "      <td>13.375000</td>\n",
              "      <td>1</td>\n",
              "      <td>8.033333</td>\n",
              "      <td>1</td>\n",
              "    </tr>\n",
              "    <tr>\n",
              "      <th>830</th>\n",
              "      <td>830</td>\n",
              "      <td>91</td>\n",
              "      <td>1</td>\n",
              "      <td>8.0</td>\n",
              "      <td>4.0</td>\n",
              "      <td>13.0</td>\n",
              "      <td>8.0</td>\n",
              "      <td>8.0</td>\n",
              "      <td>9.0</td>\n",
              "      <td>11.0</td>\n",
              "      <td>9.0</td>\n",
              "      <td>15.0</td>\n",
              "      <td>6.0</td>\n",
              "      <td>13.000000</td>\n",
              "      <td>1</td>\n",
              "      <td>8.133333</td>\n",
              "      <td>1</td>\n",
              "    </tr>\n",
              "    <tr>\n",
              "      <th>1283</th>\n",
              "      <td>1283</td>\n",
              "      <td>109</td>\n",
              "      <td>1</td>\n",
              "      <td>8.0</td>\n",
              "      <td>11.0</td>\n",
              "      <td>24.0</td>\n",
              "      <td>7.0</td>\n",
              "      <td>8.0</td>\n",
              "      <td>4.0</td>\n",
              "      <td>7.0</td>\n",
              "      <td>12.0</td>\n",
              "      <td>24.0</td>\n",
              "      <td>4.0</td>\n",
              "      <td>13.625000</td>\n",
              "      <td>1</td>\n",
              "      <td>8.040000</td>\n",
              "      <td>1</td>\n",
              "    </tr>\n",
              "    <tr>\n",
              "      <th>...</th>\n",
              "      <td>...</td>\n",
              "      <td>...</td>\n",
              "      <td>...</td>\n",
              "      <td>...</td>\n",
              "      <td>...</td>\n",
              "      <td>...</td>\n",
              "      <td>...</td>\n",
              "      <td>...</td>\n",
              "      <td>...</td>\n",
              "      <td>...</td>\n",
              "      <td>...</td>\n",
              "      <td>...</td>\n",
              "      <td>...</td>\n",
              "      <td>...</td>\n",
              "      <td>...</td>\n",
              "      <td>...</td>\n",
              "      <td>...</td>\n",
              "    </tr>\n",
              "    <tr>\n",
              "      <th>98858</th>\n",
              "      <td>98859</td>\n",
              "      <td>130</td>\n",
              "      <td>1</td>\n",
              "      <td>9.0</td>\n",
              "      <td>6.0</td>\n",
              "      <td>25.0</td>\n",
              "      <td>13.0</td>\n",
              "      <td>10.0</td>\n",
              "      <td>8.0</td>\n",
              "      <td>14.0</td>\n",
              "      <td>14.0</td>\n",
              "      <td>16.0</td>\n",
              "      <td>15.0</td>\n",
              "      <td>16.250000</td>\n",
              "      <td>1</td>\n",
              "      <td>9.106667</td>\n",
              "      <td>1</td>\n",
              "    </tr>\n",
              "    <tr>\n",
              "      <th>98979</th>\n",
              "      <td>98980</td>\n",
              "      <td>110</td>\n",
              "      <td>1</td>\n",
              "      <td>7.0</td>\n",
              "      <td>11.0</td>\n",
              "      <td>22.0</td>\n",
              "      <td>10.0</td>\n",
              "      <td>15.0</td>\n",
              "      <td>4.0</td>\n",
              "      <td>15.0</td>\n",
              "      <td>8.0</td>\n",
              "      <td>9.0</td>\n",
              "      <td>9.0</td>\n",
              "      <td>13.750000</td>\n",
              "      <td>1</td>\n",
              "      <td>7.766667</td>\n",
              "      <td>1</td>\n",
              "    </tr>\n",
              "    <tr>\n",
              "      <th>99028</th>\n",
              "      <td>99029</td>\n",
              "      <td>93</td>\n",
              "      <td>1</td>\n",
              "      <td>6.0</td>\n",
              "      <td>14.0</td>\n",
              "      <td>13.0</td>\n",
              "      <td>11.0</td>\n",
              "      <td>13.0</td>\n",
              "      <td>6.0</td>\n",
              "      <td>3.0</td>\n",
              "      <td>4.0</td>\n",
              "      <td>12.0</td>\n",
              "      <td>11.0</td>\n",
              "      <td>13.285714</td>\n",
              "      <td>1</td>\n",
              "      <td>8.000000</td>\n",
              "      <td>1</td>\n",
              "    </tr>\n",
              "    <tr>\n",
              "      <th>99154</th>\n",
              "      <td>99155</td>\n",
              "      <td>101</td>\n",
              "      <td>1</td>\n",
              "      <td>11.0</td>\n",
              "      <td>8.0</td>\n",
              "      <td>16.0</td>\n",
              "      <td>9.0</td>\n",
              "      <td>8.0</td>\n",
              "      <td>10.0</td>\n",
              "      <td>7.0</td>\n",
              "      <td>7.0</td>\n",
              "      <td>18.0</td>\n",
              "      <td>7.0</td>\n",
              "      <td>12.625000</td>\n",
              "      <td>1</td>\n",
              "      <td>7.260000</td>\n",
              "      <td>1</td>\n",
              "    </tr>\n",
              "    <tr>\n",
              "      <th>99751</th>\n",
              "      <td>99752</td>\n",
              "      <td>94</td>\n",
              "      <td>1</td>\n",
              "      <td>5.0</td>\n",
              "      <td>9.0</td>\n",
              "      <td>17.0</td>\n",
              "      <td>12.0</td>\n",
              "      <td>8.0</td>\n",
              "      <td>7.0</td>\n",
              "      <td>9.0</td>\n",
              "      <td>4.0</td>\n",
              "      <td>20.0</td>\n",
              "      <td>3.0</td>\n",
              "      <td>11.750000</td>\n",
              "      <td>1</td>\n",
              "      <td>6.826667</td>\n",
              "      <td>1</td>\n",
              "    </tr>\n",
              "  </tbody>\n",
              "</table>\n",
              "<p>519 rows × 17 columns</p>\n",
              "</div>"
            ],
            "text/plain": [
              "       user_id  ...  hourvelocity_suspicious_flag\n",
              "58          58  ...                             1\n",
              "125        125  ...                             1\n",
              "194        194  ...                             1\n",
              "830        830  ...                             1\n",
              "1283      1283  ...                             1\n",
              "...        ...  ...                           ...\n",
              "98858    98859  ...                             1\n",
              "98979    98980  ...                             1\n",
              "99028    99029  ...                             1\n",
              "99154    99155  ...                             1\n",
              "99751    99752  ...                             1\n",
              "\n",
              "[519 rows x 17 columns]"
            ]
          },
          "metadata": {
            "tags": []
          },
          "execution_count": 54
        }
      ]
    },
    {
      "cell_type": "code",
      "metadata": {
        "id": "kzimq6cC0lrh"
      },
      "source": [
        "users_count.to_csv(os.path.join(BASE_DIR, \"users_profile.csv\"), index=False)"
      ],
      "execution_count": 55,
      "outputs": []
    }
  ]
}